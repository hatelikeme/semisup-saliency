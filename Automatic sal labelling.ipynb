{
 "cells": [
  {
   "cell_type": "code",
   "execution_count": 1,
   "metadata": {
    "collapsed": true
   },
   "outputs": [],
   "source": [
    "from skimage.segmentation import slic\n",
    "from skimage.segmentation import mark_boundaries\n",
    "from skimage.util import img_as_float\n",
    "from skimage import io\n",
    "from skimage import feature\n",
    "\n",
    "from scipy.misc import imsave\n",
    "from scipy import ndimage as ndi\n",
    "from scipy.spatial import distance\n",
    "\n",
    "import scipy.ndimage as ndimage\n",
    "import scipy.ndimage.morphology as morphology\n",
    "\n",
    "import matplotlib.pyplot as plt\n",
    "import matplotlib.patches as patches\n",
    "from matplotlib import colors\n",
    "\n",
    "import pandas as pd\n",
    "import numpy as np\n",
    "\n",
    "from tqdm._tqdm_notebook import tqdm_notebook\n",
    "\n",
    "from PIL import Image\n",
    "import os\n",
    "import warnings"
   ]
  },
  {
   "cell_type": "code",
   "execution_count": 2,
   "metadata": {
    "collapsed": true
   },
   "outputs": [],
   "source": [
    "tqdm_notebook.pandas()"
   ]
  },
  {
   "cell_type": "code",
   "execution_count": 3,
   "metadata": {
    "collapsed": true
   },
   "outputs": [],
   "source": [
    "warnings.filterwarnings('ignore')"
   ]
  },
  {
   "cell_type": "code",
   "execution_count": 4,
   "metadata": {
    "collapsed": true
   },
   "outputs": [],
   "source": [
    "TRAIN_DATA_DIR = '../skoltech-landmarks/landmarks-clean/data_train'\n",
    "MASK_DIR = 'masks'\n",
    "if not os.path.exists(MASK_DIR):\n",
    "    os.mkdir(MASK_DIR)"
   ]
  },
  {
   "cell_type": "code",
   "execution_count": 5,
   "metadata": {
    "collapsed": true
   },
   "outputs": [],
   "source": [
    "N_SEGMENTS = 100"
   ]
  },
  {
   "cell_type": "code",
   "execution_count": 6,
   "metadata": {
    "collapsed": true
   },
   "outputs": [],
   "source": [
    "df_train = pd.read_csv('../skoltech-landmarks/landmarks-clean/labels_train.csv', sep=';')"
   ]
  },
  {
   "cell_type": "code",
   "execution_count": 7,
   "metadata": {
    "collapsed": true
   },
   "outputs": [],
   "source": [
    "def check_image(im, imdir):\n",
    "    impath = os.path.join(imdir, str(im))\n",
    "    if os.path.exists(impath):\n",
    "        im = Image.open(impath)\n",
    "        w, h = im.size\n",
    "        if w > 100 and h > 100:\n",
    "            return True\n",
    "    return False"
   ]
  },
  {
   "cell_type": "code",
   "execution_count": 8,
   "metadata": {
    "collapsed": true
   },
   "outputs": [],
   "source": [
    "df_train.columns = ['image', 'label', 'r1', 'r2', 'r3', 'r4']\n",
    "df_train = df_train[df_train['image'].apply(lambda x: check_image(x, TRAIN_DATA_DIR))]\n",
    "groups = df_train.groupby('label')\n",
    "df_train = groups.filter(lambda x: len(x) > 1)"
   ]
  },
  {
   "cell_type": "code",
   "execution_count": 9,
   "metadata": {
    "collapsed": true
   },
   "outputs": [],
   "source": [
    "df_train['rect'] = df_train.apply(lambda x: [x['r1'], x['r2'], x['r3'], x['r4']], axis = 1)"
   ]
  },
  {
   "cell_type": "code",
   "execution_count": 10,
   "metadata": {
    "collapsed": true
   },
   "outputs": [],
   "source": [
    "df_train = df_train.drop(['r1', 'r2', 'r3', 'r4'], axis = 1)"
   ]
  },
  {
   "cell_type": "code",
   "execution_count": 11,
   "metadata": {
    "collapsed": true
   },
   "outputs": [],
   "source": [
    "def get_positive_segments(segments, rect):\n",
    "    x1, x2, y1, y2 = rect\n",
    "    pos_segments = []\n",
    "    for i, val in enumerate(np.unique(segments)):\n",
    "        x, y = np.where(segments == val)\n",
    "        assert len(x) == len(y)\n",
    "        total = len(x)\n",
    "        positive = 0\n",
    "        for j in range(len(x)):\n",
    "            x_c = x[j]\n",
    "            y_c = y[j]\n",
    "            if x1 < x_c < x2 and y1 < y_c < y2:\n",
    "                positive += 1\n",
    "        if total > 0:\n",
    "            if positive/total >= 0.7:\n",
    "                pos_segments.append(i)\n",
    "    return pos_segments"
   ]
  },
  {
   "cell_type": "code",
   "execution_count": 12,
   "metadata": {
    "collapsed": true
   },
   "outputs": [],
   "source": [
    "def compute_histogram(img, nbins):\n",
    "    h_h = np.histogram(img[:,:,0], bins=nbins)[0]\n",
    "    s_h = np.histogram(img[:,:,1], bins=nbins)[0]\n",
    "    v_h = np.histogram(img[:,:,2], bins=nbins)[0]\n",
    "    h_h = h_h / np.linalg.norm(h_h)\n",
    "    s_h = s_h / np.linalg.norm(s_h)\n",
    "    v_h = v_h / np.linalg.norm(v_h)\n",
    "    return h_h, s_h, v_h"
   ]
  },
  {
   "cell_type": "code",
   "execution_count": 13,
   "metadata": {
    "collapsed": true
   },
   "outputs": [],
   "source": [
    "def compute_sp_histogram(x, y, image, nbins):\n",
    "    h = []\n",
    "    s = []\n",
    "    v = []\n",
    "    for j in range(len(x)):\n",
    "        x_c = x[j]\n",
    "        y_c = y[j]\n",
    "        h.append(image[x_c, y_c, 0])\n",
    "        s.append(image[x_c, y_c, 1])\n",
    "        v.append(image[x_c, y_c, 2])\n",
    "    h_h = np.histogram(h, bins=nbins)[0]\n",
    "    s_h = np.histogram(s, bins=nbins)[0]\n",
    "    v_h = np.histogram(v, bins=nbins)[0]\n",
    "    h_h = h_h / np.linalg.norm(h_h)\n",
    "    s_h = s_h / np.linalg.norm(s_h)\n",
    "    v_h = v_h / np.linalg.norm(v_h)\n",
    "    return h_h, s_h, v_h"
   ]
  },
  {
   "cell_type": "code",
   "execution_count": 14,
   "metadata": {
    "collapsed": true
   },
   "outputs": [],
   "source": [
    "def post_process_sp(image, segments, bbox):\n",
    "    dists = {}\n",
    "    image = colors.rgb_to_hsv(image)\n",
    "    image[np.isnan(image)] = 0\n",
    "    nbins = 100\n",
    "    img = image[bbox[0]:bbox[1]-bbox[0], bbox[2]:bbox[3]-bbox[2]]\n",
    "    f_h, f_s, f_v = compute_histogram(img, nbins)\n",
    "    full_hist = f_h + f_s + f_v\n",
    "    for i, segment in enumerate(np.unique(segments)):\n",
    "        if segment != -1:\n",
    "            x, y = np.where(segments == segment)\n",
    "            s_h, s_s, s_v = compute_sp_histogram(x, y, image, nbins)\n",
    "            seg_hist = s_h + s_s + s_v\n",
    "            dist = distance.euclidean(full_hist, seg_hist)\n",
    "            dists[segment] = dist\n",
    "            #print('segment # {}, distance = {}'.format(segment, dist))\n",
    "    treshold = np.mean(list(dists.values()))*1.1\n",
    "    for item in np.unique(segments):\n",
    "        if item != -1:\n",
    "            if dists[item] > treshold:\n",
    "                segments[np.where(segments == item)] = -1\n",
    "    return segments"
   ]
  },
  {
   "cell_type": "code",
   "execution_count": 15,
   "metadata": {
    "collapsed": true
   },
   "outputs": [],
   "source": [
    "def process_spx(image, rect, n_segments):\n",
    "    segments = slic(image, n_segments, sigma = 5)\n",
    "    pos_segm = get_positive_segments(segments, rect)\n",
    "    segments[~np.isin(segments, pos_segm)] = -1\n",
    "    segments = post_process_sp(image, segments, rect)\n",
    "    return segments"
   ]
  },
  {
   "cell_type": "code",
   "execution_count": 16,
   "metadata": {
    "collapsed": true
   },
   "outputs": [],
   "source": [
    "def process_mask(sgs):\n",
    "    #create mask\n",
    "    sgs[np.where(sgs != -1)] = 1\n",
    "    sgs[np.where(sgs == -1)] = 0\n",
    "    #fill gaps\n",
    "    sgs = ndimage.binary_fill_holes(sgs)\n",
    "    #cut small components\n",
    "    label_im, nb_labels = ndimage.label(sgs)\n",
    "    #unite and thrive\n",
    "    sizes = ndimage.sum(sgs, label_im, range(nb_labels + 1))\n",
    "    largest_label = np.argmax(sizes)\n",
    "    label_im[np.where(label_im != largest_label)] = 0\n",
    "    label_im[np.where(label_im == largest_label)] = 1\n",
    "    return label_im"
   ]
  },
  {
   "cell_type": "code",
   "execution_count": 17,
   "metadata": {
    "collapsed": true
   },
   "outputs": [],
   "source": [
    "def process_image(imname, imdir, rect, n_segments):\n",
    "    try:\n",
    "        im = img_as_float(io.imread(os.path.join(imdir, str(imname))))\n",
    "        im[np.isnan(im)] = 0\n",
    "        sgs = process_spx(im, rect, n_segments)\n",
    "        sgs = process_mask(sgs)\n",
    "        imsave(os.path.join(MASK_DIR, str(imname)+'.jpg'), sgs)\n",
    "    except:\n",
    "        pass"
   ]
  },
  {
   "cell_type": "code",
   "execution_count": 18,
   "metadata": {},
   "outputs": [
    {
     "data": {
      "application/vnd.jupyter.widget-view+json": {
       "model_id": "25b4a018b73a4af58176d8ad9f69957f",
       "version_major": 2,
       "version_minor": 0
      },
      "text/plain": [
       "A Jupyter Widget"
      ]
     },
     "metadata": {},
     "output_type": "display_data"
    },
    {
     "name": "stdout",
     "output_type": "stream",
     "text": [
      "\n"
     ]
    },
    {
     "data": {
      "text/plain": [
       "1        None\n",
       "6        None\n",
       "7        None\n",
       "8        None\n",
       "9        None\n",
       "10       None\n",
       "12       None\n",
       "14       None\n",
       "15       None\n",
       "16       None\n",
       "17       None\n",
       "18       None\n",
       "19       None\n",
       "20       None\n",
       "21       None\n",
       "22       None\n",
       "23       None\n",
       "24       None\n",
       "27       None\n",
       "28       None\n",
       "29       None\n",
       "31       None\n",
       "32       None\n",
       "33       None\n",
       "34       None\n",
       "35       None\n",
       "36       None\n",
       "38       None\n",
       "39       None\n",
       "40       None\n",
       "         ... \n",
       "42263    None\n",
       "42264    None\n",
       "42267    None\n",
       "42268    None\n",
       "42269    None\n",
       "42271    None\n",
       "42277    None\n",
       "42286    None\n",
       "42287    None\n",
       "42289    None\n",
       "42290    None\n",
       "42291    None\n",
       "42293    None\n",
       "42294    None\n",
       "42296    None\n",
       "42300    None\n",
       "42301    None\n",
       "42302    None\n",
       "42304    None\n",
       "42307    None\n",
       "42308    None\n",
       "42309    None\n",
       "42310    None\n",
       "42311    None\n",
       "42312    None\n",
       "42314    None\n",
       "42316    None\n",
       "42317    None\n",
       "42320    None\n",
       "42322    None\n",
       "Length: 26129, dtype: object"
      ]
     },
     "execution_count": 18,
     "metadata": {},
     "output_type": "execute_result"
    }
   ],
   "source": [
    "df_train.progress_apply(lambda x: process_image(x['image'],\n",
    "                                                TRAIN_DATA_DIR,\n",
    "                                                x['rect'],\n",
    "                                                N_SEGMENTS),\n",
    "                        axis = 1)"
   ]
  },
  {
   "cell_type": "code",
   "execution_count": 19,
   "metadata": {},
   "outputs": [
    {
     "ename": "TypeError",
     "evalue": "process_image() missing 1 required positional argument: 'n_segments'",
     "output_type": "error",
     "traceback": [
      "\u001b[0;31m---------------------------------------------------------------------------\u001b[0m",
      "\u001b[0;31mTypeError\u001b[0m                                 Traceback (most recent call last)",
      "\u001b[0;32m<ipython-input-19-4083e6129da8>\u001b[0m in \u001b[0;36m<module>\u001b[0;34m()\u001b[0m\n\u001b[0;32m----> 1\u001b[0;31m \u001b[0mprocess_image\u001b[0m\u001b[0;34m(\u001b[0m\u001b[0;36m11\u001b[0m\u001b[0;34m,\u001b[0m \u001b[0mTRAIN_DATA_DIR\u001b[0m\u001b[0;34m,\u001b[0m \u001b[0;34m[\u001b[0m\u001b[0;36m0\u001b[0m\u001b[0;34m,\u001b[0m \u001b[0;36m338\u001b[0m\u001b[0;34m,\u001b[0m \u001b[0;36m169\u001b[0m\u001b[0;34m,\u001b[0m \u001b[0;36m450\u001b[0m\u001b[0;34m]\u001b[0m\u001b[0;34m)\u001b[0m\u001b[0;34m\u001b[0m\u001b[0m\n\u001b[0m",
      "\u001b[0;31mTypeError\u001b[0m: process_image() missing 1 required positional argument: 'n_segments'"
     ]
    }
   ],
   "source": [
    "process_image(11, TRAIN_DATA_DIR, [0, 338, 169, 450])"
   ]
  },
  {
   "cell_type": "code",
   "execution_count": 21,
   "metadata": {},
   "outputs": [
    {
     "data": {
      "text/plain": [
       "21738"
      ]
     },
     "execution_count": 21,
     "metadata": {},
     "output_type": "execute_result"
    }
   ],
   "source": [
    "len(os.listdir('masks'))"
   ]
  }
 ],
 "metadata": {
  "kernelspec": {
   "display_name": "Python 3",
   "language": "python",
   "name": "python3"
  },
  "language_info": {
   "codemirror_mode": {
    "name": "ipython",
    "version": 3
   },
   "file_extension": ".py",
   "mimetype": "text/x-python",
   "name": "python",
   "nbconvert_exporter": "python",
   "pygments_lexer": "ipython3",
   "version": "3.6.3"
  }
 },
 "nbformat": 4,
 "nbformat_minor": 2
}
